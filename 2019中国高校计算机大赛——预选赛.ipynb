{
 "cells": [
  {
   "cell_type": "code",
   "execution_count": 257,
   "metadata": {
    "ExecuteTime": {
     "end_time": "2019-05-24T12:00:02.132011Z",
     "start_time": "2019-05-24T12:00:02.127011Z"
    }
   },
   "outputs": [],
   "source": [
    "import pandas as pd\n",
    "import numpy as np"
   ]
  },
  {
   "cell_type": "code",
   "execution_count": 258,
   "metadata": {
    "ExecuteTime": {
     "end_time": "2019-05-24T12:00:02.723706Z",
     "start_time": "2019-05-24T12:00:02.670717Z"
    }
   },
   "outputs": [],
   "source": [
    "train=pd.read_csv('train.csv',lineterminator='\\n')\n",
    "test=pd.read_csv('20190520_test.csv',lineterminator='\\n')"
   ]
  },
  {
   "cell_type": "code",
   "execution_count": 259,
   "metadata": {
    "ExecuteTime": {
     "end_time": "2019-05-24T12:00:03.199135Z",
     "start_time": "2019-05-24T12:00:03.182135Z"
    }
   },
   "outputs": [
    {
     "data": {
      "text/html": [
       "<div>\n",
       "<style scoped>\n",
       "    .dataframe tbody tr th:only-of-type {\n",
       "        vertical-align: middle;\n",
       "    }\n",
       "\n",
       "    .dataframe tbody tr th {\n",
       "        vertical-align: top;\n",
       "    }\n",
       "\n",
       "    .dataframe thead th {\n",
       "        text-align: right;\n",
       "    }\n",
       "</style>\n",
       "<table border=\"1\" class=\"dataframe\">\n",
       "  <thead>\n",
       "    <tr style=\"text-align: right;\">\n",
       "      <th></th>\n",
       "      <th>ID</th>\n",
       "      <th>review</th>\n",
       "      <th>label</th>\n",
       "    </tr>\n",
       "  </thead>\n",
       "  <tbody>\n",
       "    <tr>\n",
       "      <th>0</th>\n",
       "      <td>1</td>\n",
       "      <td>Jo bhi ap se tou behtar hoon</td>\n",
       "      <td>Negative</td>\n",
       "    </tr>\n",
       "    <tr>\n",
       "      <th>1</th>\n",
       "      <td>2</td>\n",
       "      <td>ya Allah meri sister Affia ki madad farma</td>\n",
       "      <td>Positive</td>\n",
       "    </tr>\n",
       "    <tr>\n",
       "      <th>2</th>\n",
       "      <td>3</td>\n",
       "      <td>Yeh khud chahta a is umar main shadi krna.  ha...</td>\n",
       "      <td>Negative</td>\n",
       "    </tr>\n",
       "    <tr>\n",
       "      <th>3</th>\n",
       "      <td>4</td>\n",
       "      <td>Tc ? Apky mun xe exe alfax achy nae lgty 😒💃</td>\n",
       "      <td>Negative</td>\n",
       "    </tr>\n",
       "    <tr>\n",
       "      <th>4</th>\n",
       "      <td>5</td>\n",
       "      <td>Good</td>\n",
       "      <td>Positive</td>\n",
       "    </tr>\n",
       "  </tbody>\n",
       "</table>\n",
       "</div>"
      ],
      "text/plain": [
       "   ID                                             review     label\n",
       "0   1                       Jo bhi ap se tou behtar hoon  Negative\n",
       "1   2          ya Allah meri sister Affia ki madad farma  Positive\n",
       "2   3  Yeh khud chahta a is umar main shadi krna.  ha...  Negative\n",
       "3   4        Tc ? Apky mun xe exe alfax achy nae lgty 😒💃  Negative\n",
       "4   5                                               Good  Positive"
      ]
     },
     "execution_count": 259,
     "metadata": {},
     "output_type": "execute_result"
    }
   ],
   "source": [
    "train.head(5)"
   ]
  },
  {
   "cell_type": "code",
   "execution_count": 260,
   "metadata": {
    "ExecuteTime": {
     "end_time": "2019-05-24T12:00:03.720203Z",
     "start_time": "2019-05-24T12:00:03.712204Z"
    }
   },
   "outputs": [],
   "source": [
    "X_train=train['review']\n",
    "y_train=train['label']\n",
    "X_test=test['review']\n",
    "y_train=y_train.map({'Positive':1,'Negative':0})#将y_train映射为0，1"
   ]
  },
  {
   "cell_type": "code",
   "execution_count": 261,
   "metadata": {
    "ExecuteTime": {
     "end_time": "2019-05-24T12:00:04.257524Z",
     "start_time": "2019-05-24T12:00:04.252527Z"
    }
   },
   "outputs": [
    {
     "name": "stdout",
     "output_type": "stream",
     "text": [
      "6328\n",
      "(6328,)\n"
     ]
    }
   ],
   "source": [
    "print(len(X_train))\n",
    "print(y_train.shape)"
   ]
  },
  {
   "cell_type": "code",
   "execution_count": 262,
   "metadata": {
    "ExecuteTime": {
     "end_time": "2019-05-24T12:00:05.247550Z",
     "start_time": "2019-05-24T12:00:05.242552Z"
    }
   },
   "outputs": [],
   "source": [
    "from sklearn.naive_bayes import MultinomialNB\n",
    "from sklearn.feature_extraction.text import CountVectorizer\n",
    "from sklearn.feature_extraction.text import TfidfVectorizer\n",
    "from bs4 import BeautifulSoup\n",
    "import re\n",
    "from nltk.corpus import stopwords\n",
    "import nltk\n",
    "#nltk.download('stopwords')"
   ]
  },
  {
   "cell_type": "code",
   "execution_count": 263,
   "metadata": {
    "ExecuteTime": {
     "end_time": "2019-05-24T12:00:05.914335Z",
     "start_time": "2019-05-24T12:00:05.905338Z"
    }
   },
   "outputs": [],
   "source": [
    "def review_to_words(review):\n",
    "    # 1. Remove HTML\n",
    "    review_text = BeautifulSoup(review).get_text() \n",
    "    # 2. Remove non-letters        \n",
    "    letters_only = re.sub(\"[^a-zA-Z]\", \" \", review_text) \n",
    "    # 3. Convert to lower case, split into individual words\n",
    "    words = letters_only.lower().split()                             \n",
    "    # 4. In Python, searching a set is much faster than searching a list, so convert the stop words to a set\n",
    "    stops = set(stopwords.words(\"english\"))                  \n",
    "    # 5. Remove stop words\n",
    "    meaningful_words = [w for w in words if not w in stops]   \n",
    "    # 6. Join the words back into one string separated by space,and return the result.\n",
    "    return( \" \".join( meaningful_words ))   "
   ]
  },
  {
   "cell_type": "code",
   "execution_count": 264,
   "metadata": {
    "ExecuteTime": {
     "end_time": "2019-05-24T12:00:13.678713Z",
     "start_time": "2019-05-24T12:00:06.883784Z"
    }
   },
   "outputs": [],
   "source": [
    "train_X = [] \n",
    "test_X = []\n",
    "for i in X_train:\n",
    "    train_X.append(review_to_words(i))\n",
    "for j in X_test:\n",
    "    test_X.append(review_to_words(j))"
   ]
  },
  {
   "cell_type": "code",
   "execution_count": 265,
   "metadata": {
    "ExecuteTime": {
     "end_time": "2019-05-24T12:00:14.933973Z",
     "start_time": "2019-05-24T12:00:14.926973Z"
    }
   },
   "outputs": [
    {
     "name": "stdout",
     "output_type": "stream",
     "text": [
      "['ya allah meri sister affia ki madad farma', 'yeh khud chahta umar main shadi krna ogi']\n",
      "['jail road per firing se shakhs janbahaq', 'mehfil loot li aunty ne']\n"
     ]
    }
   ],
   "source": [
    "print(train_X[1:3])\n",
    "print(test_X[1:3])"
   ]
  },
  {
   "cell_type": "code",
   "execution_count": 278,
   "metadata": {
    "ExecuteTime": {
     "end_time": "2019-05-24T12:01:13.038709Z",
     "start_time": "2019-05-24T12:01:12.623390Z"
    }
   },
   "outputs": [],
   "source": [
    "tfidf_vec=TfidfVectorizer()\n",
    "X_tfidf_train=tfidf_vec.fit_transform(train_X)\n",
    "X_tfidf_test=tfidf_vec.transform(test_X)"
   ]
  },
  {
   "cell_type": "code",
   "execution_count": 279,
   "metadata": {
    "ExecuteTime": {
     "end_time": "2019-05-24T12:01:13.217599Z",
     "start_time": "2019-05-24T12:01:13.187598Z"
    }
   },
   "outputs": [
    {
     "name": "stdout",
     "output_type": "stream",
     "text": [
      "(6328, 17249)\n",
      "['aaaa', 'aaainda', 'aaalam', 'aaalu', 'aaap', 'aaatma', 'aaaya', 'aabaadi', 'aabaai', 'aabad', 'aachi', 'aachuki', 'aadat', 'aadhi', 'aadmi', 'aadmiyon', 'aadmy', 'aae', 'aaeen', 'aaega', 'aaey', 'aaeyn', 'aafaq', 'aafia', 'aafiyat', 'aafrini', 'aag', 'aaga', 'aagah', 'aagahi', 'aagaye', 'aage', 'aaghaz', 'aagly', 'aagy', 'aagye', 'aahata', 'aahkoon', 'aai', 'aaid', 'aain', 'aainda', 'aaindah', 'aaini', 'aaiyd', 'aaiye', 'aaiyn', 'aaiyna', 'aaiynda', 'aaiyne', 'aaj', 'aaja', 'aajai', 'aajata', 'aajati', 'aajaye', 'aaka', 'aakar', 'aakhir', 'aakhirat', 'aakhirkar', 'aakhrat', 'aakhri', 'aakrr', 'aal', 'aala', 'aalaa', 'aalam', 'aalameen', 'aalikum', 'aalim', 'aalime', 'aalla', 'aalm', 'aalmi', 'aam', 'aama', 'aamaal', 'aamad', 'aamada', 'aamadah', 'aamal', 'aamdani', 'aameeeenn', 'aameen', 'aamen', 'aamesizh', 'aamezish', 'aamin', 'aamir', 'aamiriyat', 'aamiyana', 'aamla', 'aamm', 'aamriyat', 'aamriyaton', 'aamun', 'aan', 'aana']\n"
     ]
    }
   ],
   "source": [
    "print(X_tfidf_train.shape)\n",
    "print(tfidf_vec.get_feature_names()[1:100])"
   ]
  },
  {
   "cell_type": "code",
   "execution_count": 280,
   "metadata": {
    "ExecuteTime": {
     "end_time": "2019-05-24T12:01:14.000542Z",
     "start_time": "2019-05-24T12:01:13.981533Z"
    }
   },
   "outputs": [
    {
     "name": "stdout",
     "output_type": "stream",
     "text": [
      "0.9208280657395702\n"
     ]
    }
   ],
   "source": [
    "mnb_tfidf=MultinomialNB()\n",
    "mnb_tfidf.fit(X_tfidf_train,y_train)\n",
    "mnb_tfidf_train_predict=mnb_tfidf.predict(X_tfidf_train)\n",
    "print(mnb_tfidf.score(X_tfidf_train,y_train))\n",
    "#这是预测结果\n",
    "y_test=mnb_tfidf.predict(X_tfidf_test)\n",
    "y_pred=mnb_tfidf.predict_proba(X_tfidf_test)"
   ]
  },
  {
   "cell_type": "code",
   "execution_count": 281,
   "metadata": {
    "ExecuteTime": {
     "end_time": "2019-05-24T12:01:14.687788Z",
     "start_time": "2019-05-24T12:01:14.676782Z"
    }
   },
   "outputs": [
    {
     "name": "stdout",
     "output_type": "stream",
     "text": [
      "0.9179616563714295\n"
     ]
    }
   ],
   "source": [
    "#这是训练集的AUC结果\n",
    "from sklearn.metrics import roc_curve,roc_auc_score\n",
    "AUC=roc_auc_score(y_train,mnb_tfidf_train_predict)\n",
    "print(AUC)"
   ]
  },
  {
   "cell_type": "code",
   "execution_count": 282,
   "metadata": {
    "ExecuteTime": {
     "end_time": "2019-05-24T12:01:16.903393Z",
     "start_time": "2019-05-24T12:01:16.897397Z"
    }
   },
   "outputs": [
    {
     "name": "stdout",
     "output_type": "stream",
     "text": [
      "[[0.58411642 0.41588358]\n",
      " [0.96297762 0.03702238]\n",
      " [0.4747661  0.5252339 ]\n",
      " ...\n",
      " [0.23155369 0.76844631]\n",
      " [0.30766134 0.69233866]\n",
      " [0.19215722 0.80784278]]\n"
     ]
    }
   ],
   "source": [
    "print(y_pred)"
   ]
  },
  {
   "cell_type": "code",
   "execution_count": 285,
   "metadata": {
    "ExecuteTime": {
     "end_time": "2019-05-24T12:01:35.554579Z",
     "start_time": "2019-05-24T12:01:35.546568Z"
    }
   },
   "outputs": [],
   "source": [
    "#这是预测该条文本的情感状态是否为「Positive」\n",
    "y_predict_positive = [item[1] for item in y_pred]"
   ]
  },
  {
   "cell_type": "code",
   "execution_count": 286,
   "metadata": {
    "ExecuteTime": {
     "end_time": "2019-05-24T12:01:36.003210Z",
     "start_time": "2019-05-24T12:01:35.964218Z"
    }
   },
   "outputs": [],
   "source": [
    "#导出结果\n",
    "ID = test['ID']\n",
    "df={'ID':ID, 'Pred':y_predict_positive}\n",
    "df=pd.DataFrame(df,columns=['ID', 'Pred'])\n",
    "df.to_csv('result.csv',header=True,index=False) #写入文件"
   ]
  },
  {
   "cell_type": "code",
   "execution_count": null,
   "metadata": {},
   "outputs": [],
   "source": []
  }
 ],
 "metadata": {
  "kernelspec": {
   "display_name": "Python 3",
   "language": "python",
   "name": "python3"
  },
  "language_info": {
   "codemirror_mode": {
    "name": "ipython",
    "version": 3
   },
   "file_extension": ".py",
   "mimetype": "text/x-python",
   "name": "python",
   "nbconvert_exporter": "python",
   "pygments_lexer": "ipython3",
   "version": "3.7.1"
  },
  "toc": {
   "base_numbering": 1,
   "nav_menu": {},
   "number_sections": true,
   "sideBar": true,
   "skip_h1_title": false,
   "title_cell": "Table of Contents",
   "title_sidebar": "Contents",
   "toc_cell": false,
   "toc_position": {},
   "toc_section_display": true,
   "toc_window_display": false
  },
  "varInspector": {
   "cols": {
    "lenName": 16,
    "lenType": 16,
    "lenVar": 40
   },
   "kernels_config": {
    "python": {
     "delete_cmd_postfix": "",
     "delete_cmd_prefix": "del ",
     "library": "var_list.py",
     "varRefreshCmd": "print(var_dic_list())"
    },
    "r": {
     "delete_cmd_postfix": ") ",
     "delete_cmd_prefix": "rm(",
     "library": "var_list.r",
     "varRefreshCmd": "cat(var_dic_list()) "
    }
   },
   "types_to_exclude": [
    "module",
    "function",
    "builtin_function_or_method",
    "instance",
    "_Feature"
   ],
   "window_display": false
  }
 },
 "nbformat": 4,
 "nbformat_minor": 2
}
